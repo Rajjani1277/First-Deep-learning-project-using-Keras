{
 "cells": [
  {
   "cell_type": "markdown",
   "metadata": {},
   "source": [
    "# Import all libraries"
   ]
  },
  {
   "cell_type": "code",
   "execution_count": 16,
   "metadata": {},
   "outputs": [],
   "source": [
    "import numpy as np\n",
    "np.random.seed(123) \n",
    "import keras as k \n",
    "from keras.models import Sequential\n",
    "from keras.layers import Dense, Dropout, Activation, Flatten\n",
    "from keras.layers import Convolution2D, MaxPooling2D\n",
    "from keras.utils import np_utils\n",
    "from keras.datasets import mnist "
   ]
  },
  {
   "cell_type": "markdown",
   "metadata": {},
   "source": [
    "# Load and Split Data"
   ]
  },
  {
   "cell_type": "code",
   "execution_count": 17,
   "metadata": {},
   "outputs": [],
   "source": [
    "(X_train, y_train), (X_test, y_test) = mnist.load_data()"
   ]
  },
  {
   "cell_type": "markdown",
   "metadata": {},
   "source": [
    "# Data Processing"
   ]
  },
  {
   "cell_type": "code",
   "execution_count": 18,
   "metadata": {},
   "outputs": [],
   "source": [
    "X_train = X_train.reshape(X_train.shape[0], 1, 28, 28)\n",
    "X_test = X_test.reshape(X_test.shape[0], 1, 28, 28)\n",
    "X_train = X_train.astype('float32')\n",
    "X_test = X_test.astype('float32')\n",
    "X_train /= 255\n",
    "X_test /= 255"
   ]
  },
  {
   "cell_type": "code",
   "execution_count": 28,
   "metadata": {},
   "outputs": [
    {
     "data": {
      "text/plain": [
       "(60000, 10)"
      ]
     },
     "execution_count": 28,
     "metadata": {},
     "output_type": "execute_result"
    }
   ],
   "source": [
    "Y_train = np_utils.to_categorical(y_train, 10)\n",
    "Y_test = np_utils.to_categorical(y_test, 10)\n",
    "Y_train.shape"
   ]
  },
  {
   "cell_type": "markdown",
   "metadata": {},
   "source": [
    "# Create Neural Network"
   ]
  },
  {
   "cell_type": "code",
   "execution_count": 22,
   "metadata": {},
   "outputs": [],
   "source": [
    "model = Sequential()"
   ]
  },
  {
   "cell_type": "code",
   "execution_count": 23,
   "metadata": {},
   "outputs": [],
   "source": [
    "model.add(Flatten())\n",
    "model.add(Dense(128, activation='relu'))\n",
    "model.add(Dropout(0.5))\n",
    "model.add(Dense(10, activation='softmax'))"
   ]
  },
  {
   "cell_type": "code",
   "execution_count": 24,
   "metadata": {},
   "outputs": [],
   "source": [
    "model.compile(loss='categorical_crossentropy',\n",
    "              optimizer='adam',\n",
    "              metrics=['accuracy'])"
   ]
  },
  {
   "cell_type": "code",
   "execution_count": 36,
   "metadata": {},
   "outputs": [
    {
     "name": "stdout",
     "output_type": "stream",
     "text": [
      "Epoch 1/20\n",
      " 1952/60000 [..............................] - ETA: 4s - loss: 0.1107 - accuracy: 0.9677"
     ]
    },
    {
     "name": "stderr",
     "output_type": "stream",
     "text": [
      "c:\\users\\raj\\anaconda3\\envs\\tf\\lib\\site-packages\\ipykernel_launcher.py:2: UserWarning: The `nb_epoch` argument in `fit` has been renamed `epochs`.\n",
      "  \n"
     ]
    },
    {
     "name": "stdout",
     "output_type": "stream",
     "text": [
      "60000/60000 [==============================] - 5s 79us/step - loss: 0.1100 - accuracy: 0.9655\n",
      "Epoch 2/20\n",
      "60000/60000 [==============================] - 6s 94us/step - loss: 0.1054 - accuracy: 0.9661\n",
      "Epoch 3/20\n",
      "60000/60000 [==============================] - 6s 101us/step - loss: 0.1049 - accuracy: 0.9663\n",
      "Epoch 4/20\n",
      "60000/60000 [==============================] - 6s 101us/step - loss: 0.1049 - accuracy: 0.9674\n",
      "Epoch 5/20\n",
      "60000/60000 [==============================] - 7s 110us/step - loss: 0.1015 - accuracy: 0.9668\n",
      "Epoch 6/20\n",
      "60000/60000 [==============================] - 5s 89us/step - loss: 0.0997 - accuracy: 0.9683\n",
      "Epoch 7/20\n",
      "60000/60000 [==============================] - 5s 89us/step - loss: 0.0942 - accuracy: 0.9699\n",
      "Epoch 8/20\n",
      "60000/60000 [==============================] - 5s 87us/step - loss: 0.0948 - accuracy: 0.9698\n",
      "Epoch 9/20\n",
      "60000/60000 [==============================] - 5s 87us/step - loss: 0.0929 - accuracy: 0.9698\n",
      "Epoch 10/20\n",
      "60000/60000 [==============================] - 5s 87us/step - loss: 0.0902 - accuracy: 0.9705\n",
      "Epoch 11/20\n",
      "60000/60000 [==============================] - 5s 87us/step - loss: 0.0889 - accuracy: 0.9708\n",
      "Epoch 12/20\n",
      "60000/60000 [==============================] - 6s 94us/step - loss: 0.0888 - accuracy: 0.9707\n",
      "Epoch 13/20\n",
      "60000/60000 [==============================] - 5s 87us/step - loss: 0.0840 - accuracy: 0.9730\n",
      "Epoch 14/20\n",
      "60000/60000 [==============================] - 5s 87us/step - loss: 0.0823 - accuracy: 0.9736\n",
      "Epoch 15/20\n",
      "60000/60000 [==============================] - 5s 88us/step - loss: 0.0821 - accuracy: 0.9738\n",
      "Epoch 16/20\n",
      "60000/60000 [==============================] - 5s 89us/step - loss: 0.0793 - accuracy: 0.9736\n",
      "Epoch 17/20\n",
      "60000/60000 [==============================] - 5s 90us/step - loss: 0.0812 - accuracy: 0.9732\n",
      "Epoch 18/20\n",
      "60000/60000 [==============================] - 5s 87us/step - loss: 0.0788 - accuracy: 0.9741\n",
      "Epoch 19/20\n",
      "60000/60000 [==============================] - 5s 89us/step - loss: 0.0779 - accuracy: 0.9752\n",
      "Epoch 20/20\n",
      "60000/60000 [==============================] - 5s 88us/step - loss: 0.0794 - accuracy: 0.9740\n"
     ]
    }
   ],
   "source": [
    "model.fit(X_train, Y_train, \n",
    "          batch_size=32, nb_epoch=20, verbose=1)\n",
    " \n",
    "score = model.evaluate(X_test, Y_test, verbose=0)"
   ]
  },
  {
   "cell_type": "markdown",
   "metadata": {},
   "source": []
  },
  {
   "cell_type": "code",
   "execution_count": 37,
   "metadata": {},
   "outputs": [
    {
     "name": "stdout",
     "output_type": "stream",
     "text": [
      "[7 2 1 ... 4 5 6]\n"
     ]
    }
   ],
   "source": [
    "y_pred = model.predict_classes(X_test)\n",
    "print(y_pred)"
   ]
  },
  {
   "cell_type": "code",
   "execution_count": 38,
   "metadata": {},
   "outputs": [
    {
     "data": {
      "text/plain": [
       "0.9792"
      ]
     },
     "execution_count": 38,
     "metadata": {},
     "output_type": "execute_result"
    }
   ],
   "source": [
    "from sklearn.metrics import accuracy_score\n",
    "accuracy_score(y_pred, y_test)"
   ]
  },
  {
   "cell_type": "code",
   "execution_count": null,
   "metadata": {},
   "outputs": [],
   "source": []
  }
 ],
 "metadata": {
  "kernelspec": {
   "display_name": "Python 3",
   "language": "python",
   "name": "python3"
  },
  "language_info": {
   "codemirror_mode": {
    "name": "ipython",
    "version": 3
   },
   "file_extension": ".py",
   "mimetype": "text/x-python",
   "name": "python",
   "nbconvert_exporter": "python",
   "pygments_lexer": "ipython3",
   "version": "3.7.6"
  }
 },
 "nbformat": 4,
 "nbformat_minor": 4
}
